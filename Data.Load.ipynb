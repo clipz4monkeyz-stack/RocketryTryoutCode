import pandas as pd
import numpy as np
from sklearn.model_selection import train_test_split
from sklearn.preprocessing import StandardScaler
from sklearn.ensemble import RandomForestClassifier
from sklearn.metrics import accuracy_score, classification_report, confusion_matrix
import seaborn as sns
import matplotlib.pyplot as plt
url_fight = "https://raw.githubusercontent.com/ThasankaK/UFC-Dataset-and-Model-Predictor/refs/heads/master/ufc_event_fight_stats.csv"
url_fighter = "https://raw.githubusercontent.com/ThasankaK/UFC-Dataset-and-Model-Predictor/refs/heads/master/ufc_fighters_avg.csv"df_fights = pd.read_csv(url_fight)
df_fighters = pd.read_csv(url_fighter)
df_fighters = pd.read_csv(url_fight)

print("Fights table shape:", df_fights.shape)
print("Fighters avg stats shape:", df_fighters.shape)
